{
 "cells": [
  {
   "cell_type": "code",
   "execution_count": 1,
   "id": "b5c33aa4",
   "metadata": {
    "id": "b5c33aa4"
   },
   "outputs": [],
   "source": [
    "import pandas as pd\n",
    "import numpy as np\n"
   ]
  },
  {
   "cell_type": "markdown",
   "id": "966c0227",
   "metadata": {},
   "source": [
    "### Data reading"
   ]
  },
  {
   "cell_type": "code",
   "execution_count": 2,
   "id": "VAPL6zQYQkRS",
   "metadata": {
    "colab": {
     "base_uri": "https://localhost:8080/",
     "height": 573
    },
    "id": "VAPL6zQYQkRS",
    "outputId": "f4fb01cd-6944-47e9-e1c2-e63db690c9fa"
   },
   "outputs": [
    {
     "data": {
      "text/html": [
       "<div>\n",
       "<style scoped>\n",
       "    .dataframe tbody tr th:only-of-type {\n",
       "        vertical-align: middle;\n",
       "    }\n",
       "\n",
       "    .dataframe tbody tr th {\n",
       "        vertical-align: top;\n",
       "    }\n",
       "\n",
       "    .dataframe thead th {\n",
       "        text-align: right;\n",
       "    }\n",
       "</style>\n",
       "<table border=\"1\" class=\"dataframe\">\n",
       "  <thead>\n",
       "    <tr style=\"text-align: right;\">\n",
       "      <th></th>\n",
       "      <th>uuid</th>\n",
       "      <th>title</th>\n",
       "      <th>image</th>\n",
       "      <th>description</th>\n",
       "      <th>language</th>\n",
       "      <th>categories</th>\n",
       "      <th>website</th>\n",
       "      <th>author</th>\n",
       "      <th>itunes_id</th>\n",
       "    </tr>\n",
       "  </thead>\n",
       "  <tbody>\n",
       "    <tr>\n",
       "      <th>0</th>\n",
       "      <td>8d62d3880db2425b890b986e58aca393</td>\n",
       "      <td>Ecommerce Conversations, by Practical Ecommerce</td>\n",
       "      <td>http://is4.mzstatic.com/image/thumb/Music6/v4/...</td>\n",
       "      <td>Listen in as the Practical Ecommerce editorial...</td>\n",
       "      <td>English</td>\n",
       "      <td>Technology</td>\n",
       "      <td>http://www.practicalecommerce.com</td>\n",
       "      <td>Practical Ecommerce</td>\n",
       "      <td>874457373</td>\n",
       "    </tr>\n",
       "    <tr>\n",
       "      <th>1</th>\n",
       "      <td>cbbefd691915468c90f87ab2f00473f9</td>\n",
       "      <td>Eat Sleep Code Podcast</td>\n",
       "      <td>http://is4.mzstatic.com/image/thumb/Music71/v4...</td>\n",
       "      <td>On the show we’ll be talking to passionate peo...</td>\n",
       "      <td>English</td>\n",
       "      <td>Tech News | Technology</td>\n",
       "      <td>http://developer.telerik.com/</td>\n",
       "      <td>Telerik</td>\n",
       "      <td>1015556393</td>\n",
       "    </tr>\n",
       "    <tr>\n",
       "      <th>2</th>\n",
       "      <td>73626ad1edb74dbb8112cd159bda86cf</td>\n",
       "      <td>SoundtrackAlley</td>\n",
       "      <td>http://is5.mzstatic.com/image/thumb/Music71/v4...</td>\n",
       "      <td>A podcast about soundtracks and movies from my...</td>\n",
       "      <td>English</td>\n",
       "      <td>Podcasting | Technology</td>\n",
       "      <td>https://soundtrackalley.podbean.com</td>\n",
       "      <td>Randy Andrews</td>\n",
       "      <td>1158188937</td>\n",
       "    </tr>\n",
       "    <tr>\n",
       "      <th>3</th>\n",
       "      <td>0f50631ebad24cedb2fee80950f37a1a</td>\n",
       "      <td>The Tech M&amp;A Podcast</td>\n",
       "      <td>http://is1.mzstatic.com/image/thumb/Music71/v4...</td>\n",
       "      <td>The Tech M&amp;A Podcast pulls from the best of th...</td>\n",
       "      <td>English</td>\n",
       "      <td>Business News | Technology | Tech News | Business</td>\n",
       "      <td>http://www.corumgroup.com</td>\n",
       "      <td>Timothy Goddard</td>\n",
       "      <td>538160025</td>\n",
       "    </tr>\n",
       "    <tr>\n",
       "      <th>4</th>\n",
       "      <td>69580e7b419045839ca07af06cf0d653</td>\n",
       "      <td>The Tech Informist - For fans of Apple, Google...</td>\n",
       "      <td>http://is4.mzstatic.com/image/thumb/Music62/v4...</td>\n",
       "      <td>The tech news show with two guys shooting the ...</td>\n",
       "      <td>English</td>\n",
       "      <td>Gadgets | Tech News | Technology</td>\n",
       "      <td>http://techinformist.com</td>\n",
       "      <td>The Tech Informist</td>\n",
       "      <td>916080498</td>\n",
       "    </tr>\n",
       "  </tbody>\n",
       "</table>\n",
       "</div>"
      ],
      "text/plain": [
       "                               uuid  \\\n",
       "0  8d62d3880db2425b890b986e58aca393   \n",
       "1  cbbefd691915468c90f87ab2f00473f9   \n",
       "2  73626ad1edb74dbb8112cd159bda86cf   \n",
       "3  0f50631ebad24cedb2fee80950f37a1a   \n",
       "4  69580e7b419045839ca07af06cf0d653   \n",
       "\n",
       "                                               title  \\\n",
       "0    Ecommerce Conversations, by Practical Ecommerce   \n",
       "1                             Eat Sleep Code Podcast   \n",
       "2                                    SoundtrackAlley   \n",
       "3                               The Tech M&A Podcast   \n",
       "4  The Tech Informist - For fans of Apple, Google...   \n",
       "\n",
       "                                               image  \\\n",
       "0  http://is4.mzstatic.com/image/thumb/Music6/v4/...   \n",
       "1  http://is4.mzstatic.com/image/thumb/Music71/v4...   \n",
       "2  http://is5.mzstatic.com/image/thumb/Music71/v4...   \n",
       "3  http://is1.mzstatic.com/image/thumb/Music71/v4...   \n",
       "4  http://is4.mzstatic.com/image/thumb/Music62/v4...   \n",
       "\n",
       "                                         description language  \\\n",
       "0  Listen in as the Practical Ecommerce editorial...  English   \n",
       "1  On the show we’ll be talking to passionate peo...  English   \n",
       "2  A podcast about soundtracks and movies from my...  English   \n",
       "3  The Tech M&A Podcast pulls from the best of th...  English   \n",
       "4  The tech news show with two guys shooting the ...  English   \n",
       "\n",
       "                                          categories  \\\n",
       "0                                         Technology   \n",
       "1                             Tech News | Technology   \n",
       "2                            Podcasting | Technology   \n",
       "3  Business News | Technology | Tech News | Business   \n",
       "4                   Gadgets | Tech News | Technology   \n",
       "\n",
       "                               website               author   itunes_id  \n",
       "0    http://www.practicalecommerce.com  Practical Ecommerce   874457373  \n",
       "1        http://developer.telerik.com/              Telerik  1015556393  \n",
       "2  https://soundtrackalley.podbean.com        Randy Andrews  1158188937  \n",
       "3            http://www.corumgroup.com      Timothy Goddard   538160025  \n",
       "4             http://techinformist.com   The Tech Informist   916080498  "
      ]
     },
     "execution_count": 2,
     "metadata": {},
     "output_type": "execute_result"
    }
   ],
   "source": [
    "df=pd.read_csv('podcasts_csv.csv')\n",
    "df.head()"
   ]
  },
  {
   "cell_type": "markdown",
   "id": "766c73e1",
   "metadata": {},
   "source": [
    "# Preprocessing"
   ]
  },
  {
   "cell_type": "code",
   "execution_count": 3,
   "id": "9c14c42d",
   "metadata": {
    "colab": {
     "base_uri": "https://localhost:8080/"
    },
    "id": "9c14c42d",
    "outputId": "af356a67-46c7-4754-ea56-fde1faad19c6"
   },
   "outputs": [
    {
     "data": {
      "text/plain": [
       "(121175, 9)"
      ]
     },
     "execution_count": 3,
     "metadata": {},
     "output_type": "execute_result"
    }
   ],
   "source": [
    "df.shape"
   ]
  },
  {
   "cell_type": "code",
   "execution_count": 4,
   "id": "422abd53",
   "metadata": {
    "colab": {
     "base_uri": "https://localhost:8080/"
    },
    "id": "422abd53",
    "outputId": "34dc33f6-3364-409a-cef1-746812309165"
   },
   "outputs": [
    {
     "data": {
      "text/plain": [
       "Index(['uuid', 'title', 'image', 'description', 'language', 'categories',\n",
       "       'website', 'author', 'itunes_id'],\n",
       "      dtype='object')"
      ]
     },
     "execution_count": 4,
     "metadata": {},
     "output_type": "execute_result"
    }
   ],
   "source": [
    "df.columns"
   ]
  },
  {
   "cell_type": "code",
   "execution_count": 5,
   "id": "d6cef1f5",
   "metadata": {
    "id": "d6cef1f5"
   },
   "outputs": [],
   "source": [
    "# removing unwanted data\n",
    "df2=df[['uuid','title','description','language','categories']]\n"
   ]
  },
  {
   "cell_type": "code",
   "execution_count": 6,
   "id": "321216a3",
   "metadata": {
    "colab": {
     "base_uri": "https://localhost:8080/"
    },
    "id": "321216a3",
    "outputId": "23d01f87-aa17-4cb9-a364-e34509f56cc2"
   },
   "outputs": [
    {
     "data": {
      "text/plain": [
       "uuid              0\n",
       "title             2\n",
       "description    1343\n",
       "language          0\n",
       "categories        0\n",
       "dtype: int64"
      ]
     },
     "execution_count": 6,
     "metadata": {},
     "output_type": "execute_result"
    }
   ],
   "source": [
    "# ealing with null values\n",
    "df2.isnull().sum()"
   ]
  },
  {
   "cell_type": "code",
   "execution_count": 7,
   "id": "df3dba58",
   "metadata": {
    "colab": {
     "base_uri": "https://localhost:8080/"
    },
    "id": "df3dba58",
    "outputId": "2caaca40-582a-4f17-8cb6-28836a7a91f1"
   },
   "outputs": [
    {
     "name": "stderr",
     "output_type": "stream",
     "text": [
      "C:\\Users\\YOUSSEF\\AppData\\Local\\Temp\\ipykernel_8900\\1761232742.py:1: SettingWithCopyWarning: \n",
      "A value is trying to be set on a copy of a slice from a DataFrame\n",
      "\n",
      "See the caveats in the documentation: https://pandas.pydata.org/pandas-docs/stable/user_guide/indexing.html#returning-a-view-versus-a-copy\n",
      "  df2.dropna(inplace=True)\n"
     ]
    }
   ],
   "source": [
    "df2.dropna(inplace=True)"
   ]
  },
  {
   "cell_type": "code",
   "execution_count": 8,
   "id": "39f49a9a",
   "metadata": {
    "colab": {
     "base_uri": "https://localhost:8080/"
    },
    "id": "39f49a9a",
    "outputId": "e0bb3dfc-4c06-487e-d38d-022f3473ed79"
   },
   "outputs": [
    {
     "data": {
      "text/plain": [
       "uuid           0\n",
       "title          0\n",
       "description    0\n",
       "language       0\n",
       "categories     0\n",
       "dtype: int64"
      ]
     },
     "execution_count": 8,
     "metadata": {},
     "output_type": "execute_result"
    }
   ],
   "source": [
    "df2.isnull().sum()"
   ]
  },
  {
   "cell_type": "code",
   "execution_count": 9,
   "id": "910630b8",
   "metadata": {
    "colab": {
     "base_uri": "https://localhost:8080/"
    },
    "id": "910630b8",
    "outputId": "2f79c4f5-0871-432c-f431-2949e3173c81"
   },
   "outputs": [
    {
     "data": {
      "text/plain": [
       "(119830, 5)"
      ]
     },
     "execution_count": 9,
     "metadata": {},
     "output_type": "execute_result"
    }
   ],
   "source": [
    "df2.shape"
   ]
  },
  {
   "cell_type": "code",
   "execution_count": 10,
   "id": "af501cc9",
   "metadata": {
    "id": "af501cc9"
   },
   "outputs": [
    {
     "data": {
      "text/plain": [
       "(117049, 5)"
      ]
     },
     "execution_count": 10,
     "metadata": {},
     "output_type": "execute_result"
    }
   ],
   "source": [
    "# manipulating duplicate data\n",
    "df3=df2.drop_duplicates(subset='title', keep='first')\n",
    "df3.shape"
   ]
  },
  {
   "cell_type": "markdown",
   "id": "281cf8c8",
   "metadata": {},
   "source": [
    "### cleaning our data"
   ]
  },
  {
   "cell_type": "code",
   "execution_count": 11,
   "id": "e3917bcd",
   "metadata": {
    "id": "e3917bcd"
   },
   "outputs": [],
   "source": [
    "df3=df3[df3.title != 'No Title']"
   ]
  },
  {
   "cell_type": "code",
   "execution_count": 12,
   "id": "df4847c2",
   "metadata": {
    "id": "df4847c2"
   },
   "outputs": [],
   "source": [
    "df3=df3[~df3['title'].str.contains('<', case=False)]"
   ]
  },
  {
   "cell_type": "code",
   "execution_count": 13,
   "id": "44981702",
   "metadata": {
    "id": "44981702"
   },
   "outputs": [],
   "source": [
    "# we keep only english podcasts\n",
    "df3=df3[df3['language'] == 'English']"
   ]
  },
  {
   "cell_type": "code",
   "execution_count": 14,
   "id": "bbd0b288",
   "metadata": {
    "id": "bbd0b288"
   },
   "outputs": [],
   "source": [
    "# in this step we remove all rows data have title containing alphabets other than english ones like arabis, chinese...etc\n",
    "english_alphabet_pattern =r'^[a-zA-Z0-9*|\\-+#~()éèêôû`,.:;’»<>/!?&_@%–\\[\\]\\'\\\"\\s]+$'\n",
    "df4=df3[df3['title'].str.contains(english_alphabet_pattern, case=False, na=False)]\n"
   ]
  },
  {
   "cell_type": "code",
   "execution_count": 15,
   "id": "3e4829f7",
   "metadata": {
    "id": "3e4829f7"
   },
   "outputs": [],
   "source": [
    "df4=df4[~df4['title'].str.contains('www', case=False, na=False)]\n"
   ]
  },
  {
   "cell_type": "code",
   "execution_count": 16,
   "id": "2d1a008a",
   "metadata": {
    "colab": {
     "base_uri": "https://localhost:8080/",
     "height": 533
    },
    "id": "2d1a008a",
    "outputId": "e39d29a0-2fb8-401e-8f72-b9f37b8e475c"
   },
   "outputs": [
    {
     "data": {
      "text/html": [
       "<div>\n",
       "<style scoped>\n",
       "    .dataframe tbody tr th:only-of-type {\n",
       "        vertical-align: middle;\n",
       "    }\n",
       "\n",
       "    .dataframe tbody tr th {\n",
       "        vertical-align: top;\n",
       "    }\n",
       "\n",
       "    .dataframe thead th {\n",
       "        text-align: right;\n",
       "    }\n",
       "</style>\n",
       "<table border=\"1\" class=\"dataframe\">\n",
       "  <thead>\n",
       "    <tr style=\"text-align: right;\">\n",
       "      <th></th>\n",
       "      <th>uuid</th>\n",
       "      <th>title</th>\n",
       "      <th>description</th>\n",
       "      <th>language</th>\n",
       "      <th>categories</th>\n",
       "    </tr>\n",
       "  </thead>\n",
       "  <tbody>\n",
       "    <tr>\n",
       "      <th>60870</th>\n",
       "      <td>37ba4dd2acad4e998e20602210e6c43a</td>\n",
       "      <td>Podcasts – Resurgence | Official Website</td>\n",
       "      <td>In the summer of 2008, in Edmonton, Alberta, C...</td>\n",
       "      <td>English</td>\n",
       "      <td>Religion &amp; Spirituality | Christianity | Arts</td>\n",
       "    </tr>\n",
       "    <tr>\n",
       "      <th>38280</th>\n",
       "      <td>e33a2dc009894a64b9e465b24a3c13ed</td>\n",
       "      <td>Sermons – Pine Valley Church</td>\n",
       "      <td>the message and ministry podcast of Pine Valle...</td>\n",
       "      <td>English</td>\n",
       "      <td>Christianity | Religion &amp; Spirituality</td>\n",
       "    </tr>\n",
       "    <tr>\n",
       "      <th>4895</th>\n",
       "      <td>8ca13784ab1f470aa686ca772e051901</td>\n",
       "      <td>Backyard Booking Podcast</td>\n",
       "      <td>A weekly podcast hosted by Jake and Thoma. Thi...</td>\n",
       "      <td>English</td>\n",
       "      <td>Video Games | Games &amp; Hobbies | Sports &amp; Recre...</td>\n",
       "    </tr>\n",
       "    <tr>\n",
       "      <th>74780</th>\n",
       "      <td>c55f6b9eec054a43b259f2e779881478</td>\n",
       "      <td>Wildfood from the Rangelands</td>\n",
       "      <td>Sustainable agriculture meets Aboriginal land ...</td>\n",
       "      <td>English</td>\n",
       "      <td>Natural Sciences | Comedy | Personal Journals ...</td>\n",
       "    </tr>\n",
       "    <tr>\n",
       "      <th>4815</th>\n",
       "      <td>a79ac4eec52a4bf4ab4a0d6645f97bb4</td>\n",
       "      <td>52weeks52books52women</td>\n",
       "      <td>So many books, so little time.  Companion podc...</td>\n",
       "      <td>English</td>\n",
       "      <td>Arts</td>\n",
       "    </tr>\n",
       "    <tr>\n",
       "      <th>76718</th>\n",
       "      <td>65f4f69f004b4434b30563e90b07ac5e</td>\n",
       "      <td>That Drummer Guy</td>\n",
       "      <td>That Drummer Guy Presents\\n\\nEVERYDAY at 4-6AM...</td>\n",
       "      <td>English</td>\n",
       "      <td>Society &amp; Culture</td>\n",
       "    </tr>\n",
       "    <tr>\n",
       "      <th>15850</th>\n",
       "      <td>57980f7a30bc42609db06729c288c647</td>\n",
       "      <td>BocaLead Podcast</td>\n",
       "      <td>BocaLead works with the business community to ...</td>\n",
       "      <td>English</td>\n",
       "      <td>Business | Religion &amp; Spirituality | Careers</td>\n",
       "    </tr>\n",
       "    <tr>\n",
       "      <th>45776</th>\n",
       "      <td>78e59df65d88438887e98605deac9842</td>\n",
       "      <td>Redeemer City Church - Sunday Messages</td>\n",
       "      <td>Weekly Podcast from Redeemer City Church. Rede...</td>\n",
       "      <td>English</td>\n",
       "      <td>Christianity | Religion &amp; Spirituality</td>\n",
       "    </tr>\n",
       "    <tr>\n",
       "      <th>37463</th>\n",
       "      <td>60d75f9e7c0c48c3bc7ccb8b559790c5</td>\n",
       "      <td>Wednesday Night Gentlemen Official Podcast</td>\n",
       "      <td>A show about movies, tv shows, comic books, vi...</td>\n",
       "      <td>English</td>\n",
       "      <td>TV &amp; Film</td>\n",
       "    </tr>\n",
       "    <tr>\n",
       "      <th>46761</th>\n",
       "      <td>a82c2840c0b448be805f3d1d15e8cb95</td>\n",
       "      <td>Let Me Ask You A Question</td>\n",
       "      <td>A show where we always pose various inquiries ...</td>\n",
       "      <td>English</td>\n",
       "      <td>Personal Journals | Society &amp; Culture | Perfor...</td>\n",
       "    </tr>\n",
       "    <tr>\n",
       "      <th>45648</th>\n",
       "      <td>93e5ab59912f470aaec45ea9cb29cadb</td>\n",
       "      <td>Path &amp; Present w/Baraka Blue</td>\n",
       "      <td>Path &amp; Present is a long form conversation hos...</td>\n",
       "      <td>English</td>\n",
       "      <td>Religion &amp; Spirituality</td>\n",
       "    </tr>\n",
       "  </tbody>\n",
       "</table>\n",
       "</div>"
      ],
      "text/plain": [
       "                                   uuid  \\\n",
       "60870  37ba4dd2acad4e998e20602210e6c43a   \n",
       "38280  e33a2dc009894a64b9e465b24a3c13ed   \n",
       "4895   8ca13784ab1f470aa686ca772e051901   \n",
       "74780  c55f6b9eec054a43b259f2e779881478   \n",
       "4815   a79ac4eec52a4bf4ab4a0d6645f97bb4   \n",
       "76718  65f4f69f004b4434b30563e90b07ac5e   \n",
       "15850  57980f7a30bc42609db06729c288c647   \n",
       "45776  78e59df65d88438887e98605deac9842   \n",
       "37463  60d75f9e7c0c48c3bc7ccb8b559790c5   \n",
       "46761  a82c2840c0b448be805f3d1d15e8cb95   \n",
       "45648  93e5ab59912f470aaec45ea9cb29cadb   \n",
       "\n",
       "                                            title  \\\n",
       "60870    Podcasts – Resurgence | Official Website   \n",
       "38280                Sermons – Pine Valley Church   \n",
       "4895                     Backyard Booking Podcast   \n",
       "74780                Wildfood from the Rangelands   \n",
       "4815                        52weeks52books52women   \n",
       "76718                            That Drummer Guy   \n",
       "15850                            BocaLead Podcast   \n",
       "45776      Redeemer City Church - Sunday Messages   \n",
       "37463  Wednesday Night Gentlemen Official Podcast   \n",
       "46761                   Let Me Ask You A Question   \n",
       "45648                Path & Present w/Baraka Blue   \n",
       "\n",
       "                                             description language  \\\n",
       "60870  In the summer of 2008, in Edmonton, Alberta, C...  English   \n",
       "38280  the message and ministry podcast of Pine Valle...  English   \n",
       "4895   A weekly podcast hosted by Jake and Thoma. Thi...  English   \n",
       "74780  Sustainable agriculture meets Aboriginal land ...  English   \n",
       "4815   So many books, so little time.  Companion podc...  English   \n",
       "76718  That Drummer Guy Presents\\n\\nEVERYDAY at 4-6AM...  English   \n",
       "15850  BocaLead works with the business community to ...  English   \n",
       "45776  Weekly Podcast from Redeemer City Church. Rede...  English   \n",
       "37463  A show about movies, tv shows, comic books, vi...  English   \n",
       "46761  A show where we always pose various inquiries ...  English   \n",
       "45648  Path & Present is a long form conversation hos...  English   \n",
       "\n",
       "                                              categories  \n",
       "60870      Religion & Spirituality | Christianity | Arts  \n",
       "38280             Christianity | Religion & Spirituality  \n",
       "4895   Video Games | Games & Hobbies | Sports & Recre...  \n",
       "74780  Natural Sciences | Comedy | Personal Journals ...  \n",
       "4815                                                Arts  \n",
       "76718                                  Society & Culture  \n",
       "15850       Business | Religion & Spirituality | Careers  \n",
       "45776             Christianity | Religion & Spirituality  \n",
       "37463                                          TV & Film  \n",
       "46761  Personal Journals | Society & Culture | Perfor...  \n",
       "45648                            Religion & Spirituality  "
      ]
     },
     "execution_count": 16,
     "metadata": {},
     "output_type": "execute_result"
    }
   ],
   "source": [
    "df4.sample(11)\n"
   ]
  },
  {
   "cell_type": "code",
   "execution_count": 17,
   "id": "c4a2b18c",
   "metadata": {
    "colab": {
     "base_uri": "https://localhost:8080/"
    },
    "id": "c4a2b18c",
    "outputId": "eb9c309f-d8f1-434b-e868-987c1305f716"
   },
   "outputs": [],
   "source": [
    "df4['categories'] = df4['categories'].apply(lambda val: val.lower())"
   ]
  },
  {
   "cell_type": "code",
   "execution_count": 18,
   "id": "8203d293",
   "metadata": {
    "colab": {
     "base_uri": "https://localhost:8080/"
    },
    "id": "8203d293",
    "outputId": "5591a58c-acb6-4824-fe77-bc78d7caf415"
   },
   "outputs": [
    {
     "data": {
      "text/plain": [
       "religion & spirituality | christianity                                                     8533\n",
       "christianity | religion & spirituality                                                     7032\n",
       "music                                                                                      5406\n",
       "comedy                                                                                     5016\n",
       "society & culture                                                                          4315\n",
       "                                                                                           ... \n",
       "other | religion & spirituality | spirituality | society & culture | science & medicine       1\n",
       "literature | society & culture | arts | education | performing arts                           1\n",
       "business | arts | food | society & culture                                                    1\n",
       "technology | gadgets | games & hobbies | video games | other games                            1\n",
       "tv & film | arts | podcasting | technology                                                    1\n",
       "Name: categories, Length: 15644, dtype: int64"
      ]
     },
     "execution_count": 18,
     "metadata": {},
     "output_type": "execute_result"
    }
   ],
   "source": [
    "df4.categories.value_counts()"
   ]
  },
  {
   "cell_type": "code",
   "execution_count": 19,
   "id": "630e1d1c",
   "metadata": {
    "id": "630e1d1c"
   },
   "outputs": [],
   "source": [
    "df4['categories'] = df4['categories'].apply(lambda val: val.replace('&','|'))"
   ]
  },
  {
   "cell_type": "code",
   "execution_count": 20,
   "id": "9876d02c",
   "metadata": {
    "colab": {
     "base_uri": "https://localhost:8080/"
    },
    "id": "9876d02c",
    "outputId": "c05f52c4-af2e-4289-a534-0ef87591149c"
   },
   "outputs": [
    {
     "data": {
      "text/plain": [
       "religion | spirituality | christianity                                                     8533\n",
       "christianity | religion | spirituality                                                     7032\n",
       "music                                                                                      5406\n",
       "comedy                                                                                     5016\n",
       "society | culture                                                                          4315\n",
       "                                                                                           ... \n",
       "other | religion | spirituality | spirituality | society | culture | science | medicine       1\n",
       "literature | society | culture | arts | education | performing arts                           1\n",
       "business | arts | food | society | culture                                                    1\n",
       "technology | gadgets | games | hobbies | video games | other games                            1\n",
       "tv | film | arts | podcasting | technology                                                    1\n",
       "Name: categories, Length: 15644, dtype: int64"
      ]
     },
     "execution_count": 20,
     "metadata": {},
     "output_type": "execute_result"
    }
   ],
   "source": [
    "df4.categories.value_counts()"
   ]
  },
  {
   "cell_type": "code",
   "execution_count": 21,
   "id": "5768736b",
   "metadata": {
    "id": "5768736b"
   },
   "outputs": [],
   "source": [
    "df4['categories'] = df4['categories'].apply(lambda val: 'religion | spirituality | christianity' if val == 'christianity | religion | spirituality' else val)"
   ]
  },
  {
   "cell_type": "code",
   "execution_count": 22,
   "id": "46e7d80f",
   "metadata": {
    "colab": {
     "base_uri": "https://localhost:8080/"
    },
    "id": "46e7d80f",
    "outputId": "76f29ab6-5bc9-4cb9-f3ef-e4052b48ec69"
   },
   "outputs": [
    {
     "data": {
      "text/plain": [
       "(93792, 5)"
      ]
     },
     "execution_count": 22,
     "metadata": {},
     "output_type": "execute_result"
    }
   ],
   "source": [
    "df4.shape"
   ]
  },
  {
   "cell_type": "code",
   "execution_count": 23,
   "id": "299646d5",
   "metadata": {
    "id": "299646d5"
   },
   "outputs": [],
   "source": [
    "df5=df4.copy()\n",
    "# this line create another if column instead of uuid column \n",
    "df5['id'] = range(1, len(df5) + 1)"
   ]
  },
  {
   "cell_type": "code",
   "execution_count": 24,
   "id": "29e39dbe",
   "metadata": {
    "id": "29e39dbe"
   },
   "outputs": [],
   "source": [
    "df5.drop('uuid',axis='columns',inplace=True)"
   ]
  },
  {
   "cell_type": "code",
   "execution_count": 25,
   "id": "53b9d7d3",
   "metadata": {
    "id": "53b9d7d3"
   },
   "outputs": [],
   "source": [
    "df5=df5[['id','title','language','categories','description']]\n"
   ]
  },
  {
   "cell_type": "code",
   "execution_count": 26,
   "id": "a403480c",
   "metadata": {
    "colab": {
     "base_uri": "https://localhost:8080/",
     "height": 585
    },
    "id": "a403480c",
    "outputId": "99fdeb00-4990-4155-83b4-78bb1c9f70a4"
   },
   "outputs": [
    {
     "data": {
      "text/html": [
       "<div>\n",
       "<style scoped>\n",
       "    .dataframe tbody tr th:only-of-type {\n",
       "        vertical-align: middle;\n",
       "    }\n",
       "\n",
       "    .dataframe tbody tr th {\n",
       "        vertical-align: top;\n",
       "    }\n",
       "\n",
       "    .dataframe thead th {\n",
       "        text-align: right;\n",
       "    }\n",
       "</style>\n",
       "<table border=\"1\" class=\"dataframe\">\n",
       "  <thead>\n",
       "    <tr style=\"text-align: right;\">\n",
       "      <th></th>\n",
       "      <th>id</th>\n",
       "      <th>title</th>\n",
       "      <th>language</th>\n",
       "      <th>description</th>\n",
       "      <th>technology</th>\n",
       "      <th>tech news</th>\n",
       "      <th>podcasting</th>\n",
       "      <th>business news</th>\n",
       "      <th>business</th>\n",
       "      <th>gadgets</th>\n",
       "      <th>...</th>\n",
       "      <th>language courses</th>\n",
       "      <th>sexuality</th>\n",
       "      <th>educational technology</th>\n",
       "      <th>automotive</th>\n",
       "      <th>amateur</th>\n",
       "      <th>fashion</th>\n",
       "      <th>beauty</th>\n",
       "      <th>aviation</th>\n",
       "      <th>islam</th>\n",
       "      <th>regional</th>\n",
       "    </tr>\n",
       "  </thead>\n",
       "  <tbody>\n",
       "    <tr>\n",
       "      <th>0</th>\n",
       "      <td>1</td>\n",
       "      <td>Ecommerce Conversations, by Practical Ecommerce</td>\n",
       "      <td>English</td>\n",
       "      <td>Listen in as the Practical Ecommerce editorial...</td>\n",
       "      <td>1.0</td>\n",
       "      <td>0.0</td>\n",
       "      <td>0.0</td>\n",
       "      <td>0.0</td>\n",
       "      <td>0.0</td>\n",
       "      <td>0.0</td>\n",
       "      <td>...</td>\n",
       "      <td>0.0</td>\n",
       "      <td>0.0</td>\n",
       "      <td>0.0</td>\n",
       "      <td>0.0</td>\n",
       "      <td>0.0</td>\n",
       "      <td>0.0</td>\n",
       "      <td>0.0</td>\n",
       "      <td>0.0</td>\n",
       "      <td>0.0</td>\n",
       "      <td>0.0</td>\n",
       "    </tr>\n",
       "    <tr>\n",
       "      <th>1</th>\n",
       "      <td>2</td>\n",
       "      <td>Eat Sleep Code Podcast</td>\n",
       "      <td>English</td>\n",
       "      <td>On the show we’ll be talking to passionate peo...</td>\n",
       "      <td>1.0</td>\n",
       "      <td>1.0</td>\n",
       "      <td>0.0</td>\n",
       "      <td>0.0</td>\n",
       "      <td>0.0</td>\n",
       "      <td>0.0</td>\n",
       "      <td>...</td>\n",
       "      <td>0.0</td>\n",
       "      <td>0.0</td>\n",
       "      <td>0.0</td>\n",
       "      <td>0.0</td>\n",
       "      <td>0.0</td>\n",
       "      <td>0.0</td>\n",
       "      <td>0.0</td>\n",
       "      <td>0.0</td>\n",
       "      <td>0.0</td>\n",
       "      <td>0.0</td>\n",
       "    </tr>\n",
       "    <tr>\n",
       "      <th>2</th>\n",
       "      <td>3</td>\n",
       "      <td>SoundtrackAlley</td>\n",
       "      <td>English</td>\n",
       "      <td>A podcast about soundtracks and movies from my...</td>\n",
       "      <td>1.0</td>\n",
       "      <td>0.0</td>\n",
       "      <td>1.0</td>\n",
       "      <td>0.0</td>\n",
       "      <td>0.0</td>\n",
       "      <td>0.0</td>\n",
       "      <td>...</td>\n",
       "      <td>0.0</td>\n",
       "      <td>0.0</td>\n",
       "      <td>0.0</td>\n",
       "      <td>0.0</td>\n",
       "      <td>0.0</td>\n",
       "      <td>0.0</td>\n",
       "      <td>0.0</td>\n",
       "      <td>0.0</td>\n",
       "      <td>0.0</td>\n",
       "      <td>0.0</td>\n",
       "    </tr>\n",
       "    <tr>\n",
       "      <th>3</th>\n",
       "      <td>4</td>\n",
       "      <td>The Tech M&amp;A Podcast</td>\n",
       "      <td>English</td>\n",
       "      <td>The Tech M&amp;A Podcast pulls from the best of th...</td>\n",
       "      <td>1.0</td>\n",
       "      <td>1.0</td>\n",
       "      <td>0.0</td>\n",
       "      <td>1.0</td>\n",
       "      <td>1.0</td>\n",
       "      <td>0.0</td>\n",
       "      <td>...</td>\n",
       "      <td>0.0</td>\n",
       "      <td>0.0</td>\n",
       "      <td>0.0</td>\n",
       "      <td>0.0</td>\n",
       "      <td>0.0</td>\n",
       "      <td>0.0</td>\n",
       "      <td>0.0</td>\n",
       "      <td>0.0</td>\n",
       "      <td>0.0</td>\n",
       "      <td>0.0</td>\n",
       "    </tr>\n",
       "    <tr>\n",
       "      <th>4</th>\n",
       "      <td>5</td>\n",
       "      <td>The Tech Informist - For fans of Apple, Google...</td>\n",
       "      <td>English</td>\n",
       "      <td>The tech news show with two guys shooting the ...</td>\n",
       "      <td>1.0</td>\n",
       "      <td>1.0</td>\n",
       "      <td>0.0</td>\n",
       "      <td>0.0</td>\n",
       "      <td>0.0</td>\n",
       "      <td>1.0</td>\n",
       "      <td>...</td>\n",
       "      <td>0.0</td>\n",
       "      <td>0.0</td>\n",
       "      <td>0.0</td>\n",
       "      <td>0.0</td>\n",
       "      <td>0.0</td>\n",
       "      <td>0.0</td>\n",
       "      <td>0.0</td>\n",
       "      <td>0.0</td>\n",
       "      <td>0.0</td>\n",
       "      <td>0.0</td>\n",
       "    </tr>\n",
       "  </tbody>\n",
       "</table>\n",
       "<p>5 rows × 82 columns</p>\n",
       "</div>"
      ],
      "text/plain": [
       "   id                                              title language  \\\n",
       "0   1    Ecommerce Conversations, by Practical Ecommerce  English   \n",
       "1   2                             Eat Sleep Code Podcast  English   \n",
       "2   3                                    SoundtrackAlley  English   \n",
       "3   4                               The Tech M&A Podcast  English   \n",
       "4   5  The Tech Informist - For fans of Apple, Google...  English   \n",
       "\n",
       "                                         description  technology  tech news  \\\n",
       "0  Listen in as the Practical Ecommerce editorial...         1.0        0.0   \n",
       "1  On the show we’ll be talking to passionate peo...         1.0        1.0   \n",
       "2  A podcast about soundtracks and movies from my...         1.0        0.0   \n",
       "3  The Tech M&A Podcast pulls from the best of th...         1.0        1.0   \n",
       "4  The tech news show with two guys shooting the ...         1.0        1.0   \n",
       "\n",
       "   podcasting  business news  business  gadgets  ...  language courses  \\\n",
       "0         0.0            0.0       0.0      0.0  ...               0.0   \n",
       "1         0.0            0.0       0.0      0.0  ...               0.0   \n",
       "2         1.0            0.0       0.0      0.0  ...               0.0   \n",
       "3         0.0            1.0       1.0      0.0  ...               0.0   \n",
       "4         0.0            0.0       0.0      1.0  ...               0.0   \n",
       "\n",
       "   sexuality  educational technology  automotive  amateur  fashion  beauty  \\\n",
       "0        0.0                     0.0         0.0      0.0      0.0     0.0   \n",
       "1        0.0                     0.0         0.0      0.0      0.0     0.0   \n",
       "2        0.0                     0.0         0.0      0.0      0.0     0.0   \n",
       "3        0.0                     0.0         0.0      0.0      0.0     0.0   \n",
       "4        0.0                     0.0         0.0      0.0      0.0     0.0   \n",
       "\n",
       "   aviation  islam  regional  \n",
       "0       0.0    0.0       0.0  \n",
       "1       0.0    0.0       0.0  \n",
       "2       0.0    0.0       0.0  \n",
       "3       0.0    0.0       0.0  \n",
       "4       0.0    0.0       0.0  \n",
       "\n",
       "[5 rows x 82 columns]"
      ]
     },
     "execution_count": 26,
     "metadata": {},
     "output_type": "execute_result"
    }
   ],
   "source": [
    "# spliting the categories by | and return them as list, so categories columns will contain list of posdcast's categories\n",
    "df6 = df5.copy()\n",
    "df6['categories']=df6.categories.apply(lambda val: val.split('|'))\n",
    "\n",
    "#For every row in the dataframe, iterate through the list of category and place a 1 into the corresponding column\n",
    "for index, row in df6.iterrows():\n",
    "    for cat in row['categories']:\n",
    "        df6.at[index, cat.strip()] = 1\n",
    "#Filling in the NaN values with 0 to show that a podcast doesn't have that column's category\n",
    "df6 = df6.fillna(0)\n",
    "df6=df6.drop('categories',axis=1)\n",
    "df6.head()"
   ]
  },
  {
   "cell_type": "markdown",
   "id": "f34805fd",
   "metadata": {},
   "source": [
    "# Content-Based recommendation system"
   ]
  },
  {
   "cell_type": "code",
   "execution_count": 27,
   "id": "581562dc",
   "metadata": {
    "colab": {
     "base_uri": "https://localhost:8080/",
     "height": 143
    },
    "id": "581562dc",
    "outputId": "bacf711a-876c-4778-fba1-4c229c2a737e"
   },
   "outputs": [
    {
     "data": {
      "text/html": [
       "<div>\n",
       "<style scoped>\n",
       "    .dataframe tbody tr th:only-of-type {\n",
       "        vertical-align: middle;\n",
       "    }\n",
       "\n",
       "    .dataframe tbody tr th {\n",
       "        vertical-align: top;\n",
       "    }\n",
       "\n",
       "    .dataframe thead th {\n",
       "        text-align: right;\n",
       "    }\n",
       "</style>\n",
       "<table border=\"1\" class=\"dataframe\">\n",
       "  <thead>\n",
       "    <tr style=\"text-align: right;\">\n",
       "      <th></th>\n",
       "      <th>title</th>\n",
       "      <th>rating</th>\n",
       "    </tr>\n",
       "  </thead>\n",
       "  <tbody>\n",
       "    <tr>\n",
       "      <th>0</th>\n",
       "      <td>Faith Covenant Church Podcast</td>\n",
       "      <td>4</td>\n",
       "    </tr>\n",
       "    <tr>\n",
       "      <th>1</th>\n",
       "      <td>What We Do</td>\n",
       "      <td>2</td>\n",
       "    </tr>\n",
       "    <tr>\n",
       "      <th>2</th>\n",
       "      <td>Stark Reflections on Writing and Publishing</td>\n",
       "      <td>5</td>\n",
       "    </tr>\n",
       "  </tbody>\n",
       "</table>\n",
       "</div>"
      ],
      "text/plain": [
       "                                         title  rating\n",
       "0                Faith Covenant Church Podcast       4\n",
       "1                                   What We Do       2\n",
       "2  Stark Reflections on Writing and Publishing       5"
      ]
     },
     "execution_count": 27,
     "metadata": {},
     "output_type": "execute_result"
    }
   ],
   "source": [
    "#building recommendation system\n",
    "# Let's begin by creating an input user to recommend podcasts to\n",
    "user_data = [\n",
    "    { 'title':'Faith Covenant Church Podcast','rating':4},\n",
    "    { 'title':'What We Do','rating':2},\n",
    "    { 'title':'Stark Reflections on Writing and Publishing','rating':5},\n",
    "]\n",
    "input_podcasts=pd.DataFrame(user_data)\n",
    "input_podcasts"
   ]
  },
  {
   "cell_type": "code",
   "execution_count": 28,
   "id": "LeQS5ub8VKeH",
   "metadata": {
    "colab": {
     "base_uri": "https://localhost:8080/",
     "height": 418
    },
    "id": "LeQS5ub8VKeH",
    "outputId": "fa2ccee8-f752-446f-b654-64d75ad3b05a"
   },
   "outputs": [
    {
     "data": {
      "text/html": [
       "<div>\n",
       "<style scoped>\n",
       "    .dataframe tbody tr th:only-of-type {\n",
       "        vertical-align: middle;\n",
       "    }\n",
       "\n",
       "    .dataframe tbody tr th {\n",
       "        vertical-align: top;\n",
       "    }\n",
       "\n",
       "    .dataframe thead th {\n",
       "        text-align: right;\n",
       "    }\n",
       "</style>\n",
       "<table border=\"1\" class=\"dataframe\">\n",
       "  <thead>\n",
       "    <tr style=\"text-align: right;\">\n",
       "      <th></th>\n",
       "      <th>id</th>\n",
       "      <th>title</th>\n",
       "      <th>language</th>\n",
       "      <th>description</th>\n",
       "      <th>technology</th>\n",
       "      <th>tech news</th>\n",
       "      <th>podcasting</th>\n",
       "      <th>business news</th>\n",
       "      <th>business</th>\n",
       "      <th>gadgets</th>\n",
       "      <th>...</th>\n",
       "      <th>language courses</th>\n",
       "      <th>sexuality</th>\n",
       "      <th>educational technology</th>\n",
       "      <th>automotive</th>\n",
       "      <th>amateur</th>\n",
       "      <th>fashion</th>\n",
       "      <th>beauty</th>\n",
       "      <th>aviation</th>\n",
       "      <th>islam</th>\n",
       "      <th>regional</th>\n",
       "    </tr>\n",
       "  </thead>\n",
       "  <tbody>\n",
       "    <tr>\n",
       "      <th>52105</th>\n",
       "      <td>40813</td>\n",
       "      <td>What We Do</td>\n",
       "      <td>English</td>\n",
       "      <td>\"It isn't what we say or think that defines us...</td>\n",
       "      <td>0.0</td>\n",
       "      <td>0.0</td>\n",
       "      <td>0.0</td>\n",
       "      <td>0.0</td>\n",
       "      <td>1.0</td>\n",
       "      <td>0.0</td>\n",
       "      <td>...</td>\n",
       "      <td>0.0</td>\n",
       "      <td>0.0</td>\n",
       "      <td>0.0</td>\n",
       "      <td>0.0</td>\n",
       "      <td>0.0</td>\n",
       "      <td>1.0</td>\n",
       "      <td>1.0</td>\n",
       "      <td>0.0</td>\n",
       "      <td>0.0</td>\n",
       "      <td>0.0</td>\n",
       "    </tr>\n",
       "    <tr>\n",
       "      <th>90611</th>\n",
       "      <td>70543</td>\n",
       "      <td>Stark Reflections on Writing and Publishing</td>\n",
       "      <td>English</td>\n",
       "      <td>Perspectives and reflections on the writing an...</td>\n",
       "      <td>0.0</td>\n",
       "      <td>0.0</td>\n",
       "      <td>0.0</td>\n",
       "      <td>0.0</td>\n",
       "      <td>0.0</td>\n",
       "      <td>0.0</td>\n",
       "      <td>...</td>\n",
       "      <td>0.0</td>\n",
       "      <td>0.0</td>\n",
       "      <td>0.0</td>\n",
       "      <td>0.0</td>\n",
       "      <td>0.0</td>\n",
       "      <td>0.0</td>\n",
       "      <td>0.0</td>\n",
       "      <td>0.0</td>\n",
       "      <td>0.0</td>\n",
       "      <td>0.0</td>\n",
       "    </tr>\n",
       "    <tr>\n",
       "      <th>103606</th>\n",
       "      <td>80563</td>\n",
       "      <td>Faith Covenant Church Podcast</td>\n",
       "      <td>English</td>\n",
       "      <td>Faith Covenant Church in St. Petersburg, FL.  ...</td>\n",
       "      <td>0.0</td>\n",
       "      <td>0.0</td>\n",
       "      <td>0.0</td>\n",
       "      <td>0.0</td>\n",
       "      <td>0.0</td>\n",
       "      <td>0.0</td>\n",
       "      <td>...</td>\n",
       "      <td>0.0</td>\n",
       "      <td>0.0</td>\n",
       "      <td>0.0</td>\n",
       "      <td>0.0</td>\n",
       "      <td>0.0</td>\n",
       "      <td>0.0</td>\n",
       "      <td>0.0</td>\n",
       "      <td>0.0</td>\n",
       "      <td>0.0</td>\n",
       "      <td>0.0</td>\n",
       "    </tr>\n",
       "  </tbody>\n",
       "</table>\n",
       "<p>3 rows × 82 columns</p>\n",
       "</div>"
      ],
      "text/plain": [
       "           id                                        title language  \\\n",
       "52105   40813                                   What We Do  English   \n",
       "90611   70543  Stark Reflections on Writing and Publishing  English   \n",
       "103606  80563                Faith Covenant Church Podcast  English   \n",
       "\n",
       "                                              description  technology  \\\n",
       "52105   \"It isn't what we say or think that defines us...         0.0   \n",
       "90611   Perspectives and reflections on the writing an...         0.0   \n",
       "103606  Faith Covenant Church in St. Petersburg, FL.  ...         0.0   \n",
       "\n",
       "        tech news  podcasting  business news  business  gadgets  ...  \\\n",
       "52105         0.0         0.0            0.0       1.0      0.0  ...   \n",
       "90611         0.0         0.0            0.0       0.0      0.0  ...   \n",
       "103606        0.0         0.0            0.0       0.0      0.0  ...   \n",
       "\n",
       "        language courses  sexuality  educational technology  automotive  \\\n",
       "52105                0.0        0.0                     0.0         0.0   \n",
       "90611                0.0        0.0                     0.0         0.0   \n",
       "103606               0.0        0.0                     0.0         0.0   \n",
       "\n",
       "        amateur  fashion  beauty  aviation  islam  regional  \n",
       "52105       0.0      1.0     1.0       0.0    0.0       0.0  \n",
       "90611       0.0      0.0     0.0       0.0    0.0       0.0  \n",
       "103606      0.0      0.0     0.0       0.0    0.0       0.0  \n",
       "\n",
       "[3 rows x 82 columns]"
      ]
     },
     "execution_count": 28,
     "metadata": {},
     "output_type": "execute_result"
    }
   ],
   "source": [
    "#Filtering out the podcasts from the input\n",
    "#We're going to start by learning the input's preferences, \n",
    "#so let's get the subset of pods that the input has watched from the Dataframe \n",
    "#containing categories defined with binary values.\n",
    "userPodcasts = df6[df6['title'].isin(input_podcasts['title'].tolist())]\n",
    "userPodcasts\n"
   ]
  },
  {
   "cell_type": "code",
   "execution_count": 29,
   "id": "ddTtSTK6V7Zf",
   "metadata": {
    "colab": {
     "base_uri": "https://localhost:8080/"
    },
    "id": "ddTtSTK6V7Zf",
    "outputId": "b45c682d-094e-419f-f6d2-86ea2620daab"
   },
   "outputs": [
    {
     "name": "stderr",
     "output_type": "stream",
     "text": [
      "C:\\Users\\YOUSSEF\\AppData\\Local\\Temp\\ipykernel_8900\\1041790998.py:1: SettingWithCopyWarning: \n",
      "A value is trying to be set on a copy of a slice from a DataFrame\n",
      "\n",
      "See the caveats in the documentation: https://pandas.pydata.org/pandas-docs/stable/user_guide/indexing.html#returning-a-view-versus-a-copy\n",
      "  userPodcasts.drop(['id','title','language','description'],axis='columns',inplace=True)\n"
     ]
    }
   ],
   "source": [
    "#We'll only need the actual categories table, so let's clean this up a bit \n",
    "#by  dropping the 'id','title','language','description' columns.\n",
    "userPodcasts.drop(['id','title','language','description'],axis='columns',inplace=True)"
   ]
  },
  {
   "cell_type": "code",
   "execution_count": 30,
   "id": "84EYt6ZbWo2d",
   "metadata": {
    "colab": {
     "base_uri": "https://localhost:8080/"
    },
    "id": "84EYt6ZbWo2d",
    "outputId": "6bf2ce04-4df7-45b5-a18a-e690d4a5b0d8"
   },
   "outputs": [
    {
     "data": {
      "text/plain": [
       "technology       0.0\n",
       "tech news        0.0\n",
       "podcasting       0.0\n",
       "business news    0.0\n",
       "business         4.0\n",
       "                ... \n",
       "fashion          4.0\n",
       "beauty           4.0\n",
       "aviation         0.0\n",
       "islam            0.0\n",
       "regional         0.0\n",
       "Length: 78, dtype: float64"
      ]
     },
     "execution_count": 30,
     "metadata": {},
     "output_type": "execute_result"
    }
   ],
   "source": [
    "#Dot produt to get weights\n",
    "userProfile = userPodcasts.transpose().dot(input_podcasts['rating'].values)\n",
    "#The user profile\n",
    "userProfile"
   ]
  },
  {
   "cell_type": "code",
   "execution_count": 31,
   "id": "wkniz-TKW6CO",
   "metadata": {
    "colab": {
     "base_uri": "https://localhost:8080/",
     "height": 273
    },
    "id": "wkniz-TKW6CO",
    "outputId": "50197a83-b89d-44b7-976e-96aba228d517"
   },
   "outputs": [
    {
     "data": {
      "text/html": [
       "<div>\n",
       "<style scoped>\n",
       "    .dataframe tbody tr th:only-of-type {\n",
       "        vertical-align: middle;\n",
       "    }\n",
       "\n",
       "    .dataframe tbody tr th {\n",
       "        vertical-align: top;\n",
       "    }\n",
       "\n",
       "    .dataframe thead th {\n",
       "        text-align: right;\n",
       "    }\n",
       "</style>\n",
       "<table border=\"1\" class=\"dataframe\">\n",
       "  <thead>\n",
       "    <tr style=\"text-align: right;\">\n",
       "      <th></th>\n",
       "      <th>technology</th>\n",
       "      <th>tech news</th>\n",
       "      <th>podcasting</th>\n",
       "      <th>business news</th>\n",
       "      <th>business</th>\n",
       "      <th>gadgets</th>\n",
       "      <th>management</th>\n",
       "      <th>marketing</th>\n",
       "      <th>news</th>\n",
       "      <th>politics</th>\n",
       "      <th>...</th>\n",
       "      <th>language courses</th>\n",
       "      <th>sexuality</th>\n",
       "      <th>educational technology</th>\n",
       "      <th>automotive</th>\n",
       "      <th>amateur</th>\n",
       "      <th>fashion</th>\n",
       "      <th>beauty</th>\n",
       "      <th>aviation</th>\n",
       "      <th>islam</th>\n",
       "      <th>regional</th>\n",
       "    </tr>\n",
       "  </thead>\n",
       "  <tbody>\n",
       "    <tr>\n",
       "      <th>0</th>\n",
       "      <td>1.0</td>\n",
       "      <td>0.0</td>\n",
       "      <td>0.0</td>\n",
       "      <td>0.0</td>\n",
       "      <td>0.0</td>\n",
       "      <td>0.0</td>\n",
       "      <td>0.0</td>\n",
       "      <td>0.0</td>\n",
       "      <td>0.0</td>\n",
       "      <td>0.0</td>\n",
       "      <td>...</td>\n",
       "      <td>0.0</td>\n",
       "      <td>0.0</td>\n",
       "      <td>0.0</td>\n",
       "      <td>0.0</td>\n",
       "      <td>0.0</td>\n",
       "      <td>0.0</td>\n",
       "      <td>0.0</td>\n",
       "      <td>0.0</td>\n",
       "      <td>0.0</td>\n",
       "      <td>0.0</td>\n",
       "    </tr>\n",
       "    <tr>\n",
       "      <th>1</th>\n",
       "      <td>1.0</td>\n",
       "      <td>1.0</td>\n",
       "      <td>0.0</td>\n",
       "      <td>0.0</td>\n",
       "      <td>0.0</td>\n",
       "      <td>0.0</td>\n",
       "      <td>0.0</td>\n",
       "      <td>0.0</td>\n",
       "      <td>0.0</td>\n",
       "      <td>0.0</td>\n",
       "      <td>...</td>\n",
       "      <td>0.0</td>\n",
       "      <td>0.0</td>\n",
       "      <td>0.0</td>\n",
       "      <td>0.0</td>\n",
       "      <td>0.0</td>\n",
       "      <td>0.0</td>\n",
       "      <td>0.0</td>\n",
       "      <td>0.0</td>\n",
       "      <td>0.0</td>\n",
       "      <td>0.0</td>\n",
       "    </tr>\n",
       "    <tr>\n",
       "      <th>2</th>\n",
       "      <td>1.0</td>\n",
       "      <td>0.0</td>\n",
       "      <td>1.0</td>\n",
       "      <td>0.0</td>\n",
       "      <td>0.0</td>\n",
       "      <td>0.0</td>\n",
       "      <td>0.0</td>\n",
       "      <td>0.0</td>\n",
       "      <td>0.0</td>\n",
       "      <td>0.0</td>\n",
       "      <td>...</td>\n",
       "      <td>0.0</td>\n",
       "      <td>0.0</td>\n",
       "      <td>0.0</td>\n",
       "      <td>0.0</td>\n",
       "      <td>0.0</td>\n",
       "      <td>0.0</td>\n",
       "      <td>0.0</td>\n",
       "      <td>0.0</td>\n",
       "      <td>0.0</td>\n",
       "      <td>0.0</td>\n",
       "    </tr>\n",
       "    <tr>\n",
       "      <th>3</th>\n",
       "      <td>1.0</td>\n",
       "      <td>1.0</td>\n",
       "      <td>0.0</td>\n",
       "      <td>1.0</td>\n",
       "      <td>1.0</td>\n",
       "      <td>0.0</td>\n",
       "      <td>0.0</td>\n",
       "      <td>0.0</td>\n",
       "      <td>0.0</td>\n",
       "      <td>0.0</td>\n",
       "      <td>...</td>\n",
       "      <td>0.0</td>\n",
       "      <td>0.0</td>\n",
       "      <td>0.0</td>\n",
       "      <td>0.0</td>\n",
       "      <td>0.0</td>\n",
       "      <td>0.0</td>\n",
       "      <td>0.0</td>\n",
       "      <td>0.0</td>\n",
       "      <td>0.0</td>\n",
       "      <td>0.0</td>\n",
       "    </tr>\n",
       "    <tr>\n",
       "      <th>4</th>\n",
       "      <td>1.0</td>\n",
       "      <td>1.0</td>\n",
       "      <td>0.0</td>\n",
       "      <td>0.0</td>\n",
       "      <td>0.0</td>\n",
       "      <td>1.0</td>\n",
       "      <td>0.0</td>\n",
       "      <td>0.0</td>\n",
       "      <td>0.0</td>\n",
       "      <td>0.0</td>\n",
       "      <td>...</td>\n",
       "      <td>0.0</td>\n",
       "      <td>0.0</td>\n",
       "      <td>0.0</td>\n",
       "      <td>0.0</td>\n",
       "      <td>0.0</td>\n",
       "      <td>0.0</td>\n",
       "      <td>0.0</td>\n",
       "      <td>0.0</td>\n",
       "      <td>0.0</td>\n",
       "      <td>0.0</td>\n",
       "    </tr>\n",
       "  </tbody>\n",
       "</table>\n",
       "<p>5 rows × 78 columns</p>\n",
       "</div>"
      ],
      "text/plain": [
       "   technology  tech news  podcasting  business news  business  gadgets  \\\n",
       "0         1.0        0.0         0.0            0.0       0.0      0.0   \n",
       "1         1.0        1.0         0.0            0.0       0.0      0.0   \n",
       "2         1.0        0.0         1.0            0.0       0.0      0.0   \n",
       "3         1.0        1.0         0.0            1.0       1.0      0.0   \n",
       "4         1.0        1.0         0.0            0.0       0.0      1.0   \n",
       "\n",
       "   management  marketing  news  politics  ...  language courses  sexuality  \\\n",
       "0         0.0        0.0   0.0       0.0  ...               0.0        0.0   \n",
       "1         0.0        0.0   0.0       0.0  ...               0.0        0.0   \n",
       "2         0.0        0.0   0.0       0.0  ...               0.0        0.0   \n",
       "3         0.0        0.0   0.0       0.0  ...               0.0        0.0   \n",
       "4         0.0        0.0   0.0       0.0  ...               0.0        0.0   \n",
       "\n",
       "   educational technology  automotive  amateur  fashion  beauty  aviation  \\\n",
       "0                     0.0         0.0      0.0      0.0     0.0       0.0   \n",
       "1                     0.0         0.0      0.0      0.0     0.0       0.0   \n",
       "2                     0.0         0.0      0.0      0.0     0.0       0.0   \n",
       "3                     0.0         0.0      0.0      0.0     0.0       0.0   \n",
       "4                     0.0         0.0      0.0      0.0     0.0       0.0   \n",
       "\n",
       "   islam  regional  \n",
       "0    0.0       0.0  \n",
       "1    0.0       0.0  \n",
       "2    0.0       0.0  \n",
       "3    0.0       0.0  \n",
       "4    0.0       0.0  \n",
       "\n",
       "[5 rows x 78 columns]"
      ]
     },
     "execution_count": 31,
     "metadata": {},
     "output_type": "execute_result"
    }
   ],
   "source": [
    "# Now, we have the weights for every of the user's \n",
    "# preferences. This is known as the User Profile. \n",
    "# Using this, we can recommend podcasts that satisfy the user's preferences.\n",
    "#Now let's get the categories of every podcast in our original dataframe\n",
    "#And drop the unnecessary information\n",
    "podcasts_categories=df6.set_index(df6['id'])\n",
    "podcasts_categories = podcasts_categories[~podcasts_categories['title'].isin(input_podcasts['title'].tolist()) ]\n",
    "podcasts_categories=df6.drop(['id','title','description','language'],axis='columns')\n",
    "podcasts_categories.head()"
   ]
  },
  {
   "cell_type": "code",
   "execution_count": 32,
   "id": "YDpjadj8Sqnn",
   "metadata": {
    "id": "YDpjadj8Sqnn"
   },
   "outputs": [],
   "source": [
    "# With the input's profile and the complete list of pods \n",
    "# and their categories in hand, we're going to take the weighted \n",
    "# average of every pod based on the input profile and recommend the top twenty  that most satisfy it.\n",
    "recommendationTable_df = ((podcasts_categories*userProfile).sum(axis=1))/(userProfile.sum())\n"
   ]
  },
  {
   "cell_type": "code",
   "execution_count": 33,
   "id": "mwPYj95GTqp-",
   "metadata": {
    "colab": {
     "base_uri": "https://localhost:8080/"
    },
    "id": "mwPYj95GTqp-",
    "outputId": "035038b7-e6b8-4a87-d8c7-4f6969a2e572"
   },
   "outputs": [
    {
     "data": {
      "text/plain": [
       "43322     0.698113\n",
       "112695    0.698113\n",
       "87241     0.698113\n",
       "67790     0.679245\n",
       "76415     0.660377\n",
       "dtype: float64"
      ]
     },
     "execution_count": 33,
     "metadata": {},
     "output_type": "execute_result"
    }
   ],
   "source": [
    "#Sort our recommendations in descending order\n",
    "recommendationTable_df = recommendationTable_df.sort_values(ascending=False)\n",
    "#Just a peek at the values\n",
    "recommendationTable_df.head()"
   ]
  },
  {
   "cell_type": "markdown",
   "id": "c2f416bd",
   "metadata": {},
   "source": [
    "# Now here's the top 20 podcast recommendations"
   ]
  },
  {
   "cell_type": "code",
   "execution_count": 34,
   "id": "SCdPBceDVhs2",
   "metadata": {
    "colab": {
     "base_uri": "https://localhost:8080/",
     "height": 711
    },
    "id": "SCdPBceDVhs2",
    "outputId": "91babe52-7544-4999-f6c1-b706b38bc027"
   },
   "outputs": [
    {
     "data": {
      "text/html": [
       "<div>\n",
       "<style scoped>\n",
       "    .dataframe tbody tr th:only-of-type {\n",
       "        vertical-align: middle;\n",
       "    }\n",
       "\n",
       "    .dataframe tbody tr th {\n",
       "        vertical-align: top;\n",
       "    }\n",
       "\n",
       "    .dataframe thead th {\n",
       "        text-align: right;\n",
       "    }\n",
       "</style>\n",
       "<table border=\"1\" class=\"dataframe\">\n",
       "  <thead>\n",
       "    <tr style=\"text-align: right;\">\n",
       "      <th></th>\n",
       "      <th>id</th>\n",
       "      <th>title</th>\n",
       "      <th>language</th>\n",
       "      <th>categories</th>\n",
       "      <th>description</th>\n",
       "    </tr>\n",
       "  </thead>\n",
       "  <tbody>\n",
       "    <tr>\n",
       "      <th>29187</th>\n",
       "      <td>22975</td>\n",
       "      <td>The B.A.R. Podcast</td>\n",
       "      <td>English</td>\n",
       "      <td>religion | spirituality | christianity</td>\n",
       "      <td>The B. A. R. (Biblical and Reformed) podcast p...</td>\n",
       "    </tr>\n",
       "    <tr>\n",
       "      <th>29462</th>\n",
       "      <td>23124</td>\n",
       "      <td>Financial Education</td>\n",
       "      <td>English</td>\n",
       "      <td>business</td>\n",
       "      <td>My name is Jeremy and I teach and talk about S...</td>\n",
       "    </tr>\n",
       "    <tr>\n",
       "      <th>34972</th>\n",
       "      <td>27431</td>\n",
       "      <td>Hornet Squadron Radio</td>\n",
       "      <td>English</td>\n",
       "      <td>games | hobbies</td>\n",
       "      <td>Hornet Squadron Radio- Charlotte, NC / X-Wing ...</td>\n",
       "    </tr>\n",
       "    <tr>\n",
       "      <th>43515</th>\n",
       "      <td>34131</td>\n",
       "      <td>U Up?</td>\n",
       "      <td>English</td>\n",
       "      <td>society | culture | comedy | tv | film</td>\n",
       "      <td>Insightful, obnoxious, and borderline offensiv...</td>\n",
       "    </tr>\n",
       "    <tr>\n",
       "      <th>47359</th>\n",
       "      <td>37376</td>\n",
       "      <td>12 O'Clock High-a Podcast on Business Leadership</td>\n",
       "      <td>English</td>\n",
       "      <td>business | business news | management | marketing</td>\n",
       "      <td>Leadership for business professionals</td>\n",
       "    </tr>\n",
       "    <tr>\n",
       "      <th>48059</th>\n",
       "      <td>38043</td>\n",
       "      <td>KWHI.com</td>\n",
       "      <td>English</td>\n",
       "      <td>news | politics</td>\n",
       "      <td>KWHI 1280 Brenham, Texas</td>\n",
       "    </tr>\n",
       "    <tr>\n",
       "      <th>54925</th>\n",
       "      <td>43322</td>\n",
       "      <td>Handsome Boys Comics Hour</td>\n",
       "      <td>English</td>\n",
       "      <td>arts | visual arts</td>\n",
       "      <td>One writer, one artist, one weekly discussion ...</td>\n",
       "    </tr>\n",
       "    <tr>\n",
       "      <th>55574</th>\n",
       "      <td>43937</td>\n",
       "      <td>Project Censored</td>\n",
       "      <td>English</td>\n",
       "      <td>news | politics</td>\n",
       "      <td>Mickey Huff is co-host of the Project Censored...</td>\n",
       "    </tr>\n",
       "    <tr>\n",
       "      <th>58611</th>\n",
       "      <td>45950</td>\n",
       "      <td>On the Same Page</td>\n",
       "      <td>English</td>\n",
       "      <td>education</td>\n",
       "      <td>Join the Marian University Writing Center as w...</td>\n",
       "    </tr>\n",
       "    <tr>\n",
       "      <th>62810</th>\n",
       "      <td>49500</td>\n",
       "      <td>Mindset for Success with Jimmy Petruzzi</td>\n",
       "      <td>English</td>\n",
       "      <td>self-help | health</td>\n",
       "      <td>NLP Centre of Excellence is recognised worldwi...</td>\n",
       "    </tr>\n",
       "    <tr>\n",
       "      <th>66644</th>\n",
       "      <td>52105</td>\n",
       "      <td>Character Creator</td>\n",
       "      <td>English</td>\n",
       "      <td>games | hobbies | video games | other games</td>\n",
       "      <td>A monthly podcast about video game characters ...</td>\n",
       "    </tr>\n",
       "    <tr>\n",
       "      <th>68029</th>\n",
       "      <td>53110</td>\n",
       "      <td>Danger! Talks...</td>\n",
       "      <td>English</td>\n",
       "      <td>philosophy | news | politics | sports | recrea...</td>\n",
       "      <td>An open discussion podcast on subjects that I ...</td>\n",
       "    </tr>\n",
       "    <tr>\n",
       "      <th>75486</th>\n",
       "      <td>58912</td>\n",
       "      <td>High School Dropout reads 105 books in 2017</td>\n",
       "      <td>English</td>\n",
       "      <td>education</td>\n",
       "      <td>This episode is about who I am, my hobbies (re...</td>\n",
       "    </tr>\n",
       "    <tr>\n",
       "      <th>77388</th>\n",
       "      <td>60651</td>\n",
       "      <td>Nintendo News Report</td>\n",
       "      <td>English</td>\n",
       "      <td>video games | technology | games | hobbies</td>\n",
       "      <td>Nintendo News Report is a weekly podcast dedic...</td>\n",
       "    </tr>\n",
       "    <tr>\n",
       "      <th>83831</th>\n",
       "      <td>65457</td>\n",
       "      <td>AuthorTalk</td>\n",
       "      <td>English</td>\n",
       "      <td>spirituality | religion | spirituality</td>\n",
       "      <td>Interviews of Religious and Spiritual Authors</td>\n",
       "    </tr>\n",
       "    <tr>\n",
       "      <th>86964</th>\n",
       "      <td>67790</td>\n",
       "      <td>The Southbound Sports Show</td>\n",
       "      <td>English</td>\n",
       "      <td>professional | college | high school | sports ...</td>\n",
       "      <td>A breakdown of the world of sports.</td>\n",
       "    </tr>\n",
       "    <tr>\n",
       "      <th>93506</th>\n",
       "      <td>73241</td>\n",
       "      <td>Culture Of Clouds Podcast</td>\n",
       "      <td>English</td>\n",
       "      <td>games | hobbies</td>\n",
       "      <td>Collectively Ruby Roo and GrimmGreen have been...</td>\n",
       "    </tr>\n",
       "    <tr>\n",
       "      <th>95481</th>\n",
       "      <td>74315</td>\n",
       "      <td>Willy Wonka and the Chocolate Actory</td>\n",
       "      <td>English</td>\n",
       "      <td>comedy</td>\n",
       "      <td>Podcast by Spencer Mach, Max Paulus</td>\n",
       "    </tr>\n",
       "    <tr>\n",
       "      <th>97899</th>\n",
       "      <td>76127</td>\n",
       "      <td>Episode 1, tunes and hockey.</td>\n",
       "      <td>English</td>\n",
       "      <td>music</td>\n",
       "      <td>Music, Comedy, all that good stuff.</td>\n",
       "    </tr>\n",
       "    <tr>\n",
       "      <th>98305</th>\n",
       "      <td>76415</td>\n",
       "      <td>Slacker &amp; Steve</td>\n",
       "      <td>English</td>\n",
       "      <td>technology | society | culture | comedy</td>\n",
       "      <td>Slacker &amp; Steve</td>\n",
       "    </tr>\n",
       "    <tr>\n",
       "      <th>112408</th>\n",
       "      <td>87241</td>\n",
       "      <td>The Nerds of Nostalgia Podcast</td>\n",
       "      <td>English</td>\n",
       "      <td>tv | film</td>\n",
       "      <td>This is a KC based podcast focusing on all the...</td>\n",
       "    </tr>\n",
       "    <tr>\n",
       "      <th>119589</th>\n",
       "      <td>92641</td>\n",
       "      <td>The Inner Gamer Podcast</td>\n",
       "      <td>English</td>\n",
       "      <td>video games | games | hobbies</td>\n",
       "      <td>The Inner Gamer is a video game podcast explor...</td>\n",
       "    </tr>\n",
       "  </tbody>\n",
       "</table>\n",
       "</div>"
      ],
      "text/plain": [
       "           id                                             title language  \\\n",
       "29187   22975                                The B.A.R. Podcast  English   \n",
       "29462   23124                               Financial Education  English   \n",
       "34972   27431                             Hornet Squadron Radio  English   \n",
       "43515   34131                                             U Up?  English   \n",
       "47359   37376  12 O'Clock High-a Podcast on Business Leadership  English   \n",
       "48059   38043                                          KWHI.com  English   \n",
       "54925   43322                         Handsome Boys Comics Hour  English   \n",
       "55574   43937                                  Project Censored  English   \n",
       "58611   45950                                  On the Same Page  English   \n",
       "62810   49500           Mindset for Success with Jimmy Petruzzi  English   \n",
       "66644   52105                                 Character Creator  English   \n",
       "68029   53110                                  Danger! Talks...  English   \n",
       "75486   58912       High School Dropout reads 105 books in 2017  English   \n",
       "77388   60651                              Nintendo News Report  English   \n",
       "83831   65457                                        AuthorTalk  English   \n",
       "86964   67790                        The Southbound Sports Show  English   \n",
       "93506   73241                         Culture Of Clouds Podcast  English   \n",
       "95481   74315              Willy Wonka and the Chocolate Actory  English   \n",
       "97899   76127                      Episode 1, tunes and hockey.  English   \n",
       "98305   76415                                   Slacker & Steve  English   \n",
       "112408  87241                    The Nerds of Nostalgia Podcast  English   \n",
       "119589  92641                           The Inner Gamer Podcast  English   \n",
       "\n",
       "                                               categories  \\\n",
       "29187              religion | spirituality | christianity   \n",
       "29462                                            business   \n",
       "34972                                     games | hobbies   \n",
       "43515              society | culture | comedy | tv | film   \n",
       "47359   business | business news | management | marketing   \n",
       "48059                                     news | politics   \n",
       "54925                                  arts | visual arts   \n",
       "55574                                     news | politics   \n",
       "58611                                           education   \n",
       "62810                                  self-help | health   \n",
       "66644         games | hobbies | video games | other games   \n",
       "68029   philosophy | news | politics | sports | recrea...   \n",
       "75486                                           education   \n",
       "77388          video games | technology | games | hobbies   \n",
       "83831              spirituality | religion | spirituality   \n",
       "86964   professional | college | high school | sports ...   \n",
       "93506                                     games | hobbies   \n",
       "95481                                              comedy   \n",
       "97899                                               music   \n",
       "98305             technology | society | culture | comedy   \n",
       "112408                                          tv | film   \n",
       "119589                      video games | games | hobbies   \n",
       "\n",
       "                                              description  \n",
       "29187   The B. A. R. (Biblical and Reformed) podcast p...  \n",
       "29462   My name is Jeremy and I teach and talk about S...  \n",
       "34972   Hornet Squadron Radio- Charlotte, NC / X-Wing ...  \n",
       "43515   Insightful, obnoxious, and borderline offensiv...  \n",
       "47359               Leadership for business professionals  \n",
       "48059                            KWHI 1280 Brenham, Texas  \n",
       "54925   One writer, one artist, one weekly discussion ...  \n",
       "55574   Mickey Huff is co-host of the Project Censored...  \n",
       "58611   Join the Marian University Writing Center as w...  \n",
       "62810   NLP Centre of Excellence is recognised worldwi...  \n",
       "66644   A monthly podcast about video game characters ...  \n",
       "68029   An open discussion podcast on subjects that I ...  \n",
       "75486   This episode is about who I am, my hobbies (re...  \n",
       "77388   Nintendo News Report is a weekly podcast dedic...  \n",
       "83831       Interviews of Religious and Spiritual Authors  \n",
       "86964                 A breakdown of the world of sports.  \n",
       "93506   Collectively Ruby Roo and GrimmGreen have been...  \n",
       "95481                 Podcast by Spencer Mach, Max Paulus  \n",
       "97899                 Music, Comedy, all that good stuff.  \n",
       "98305                                     Slacker & Steve  \n",
       "112408  This is a KC based podcast focusing on all the...  \n",
       "119589  The Inner Gamer is a video game podcast explor...  "
      ]
     },
     "execution_count": 34,
     "metadata": {},
     "output_type": "execute_result"
    }
   ],
   "source": [
    "#The final recommendation table\n",
    "recommendation_table = df5.loc[df5['id'].isin(recommendationTable_df.head(20).keys())]\n",
    "recommendation_table"
   ]
  }
 ],
 "metadata": {
  "colab": {
   "provenance": []
  },
  "kernelspec": {
   "display_name": "Python 3 (ipykernel)",
   "language": "python",
   "name": "python3"
  },
  "language_info": {
   "codemirror_mode": {
    "name": "ipython",
    "version": 3
   },
   "file_extension": ".py",
   "mimetype": "text/x-python",
   "name": "python",
   "nbconvert_exporter": "python",
   "pygments_lexer": "ipython3",
   "version": "3.9.13"
  }
 },
 "nbformat": 4,
 "nbformat_minor": 5
}
